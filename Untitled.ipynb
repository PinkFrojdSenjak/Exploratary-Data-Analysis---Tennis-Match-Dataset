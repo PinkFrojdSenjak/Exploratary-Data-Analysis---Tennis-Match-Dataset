{
 "cells": [
  {
   "cell_type": "markdown",
   "id": "lovely-health",
   "metadata": {},
   "source": [
    "# Exploratary data analysis - Tennis Match between Djokovic and Nadal\n",
    "\n",
    "\n",
    "\n",
    "![Title](tennisCourt.jpg)"
   ]
  },
  {
   "cell_type": "code",
   "execution_count": 1,
   "id": "affecting-destruction",
   "metadata": {},
   "outputs": [],
   "source": [
    "import numpy as np\n",
    "import pandas as pd\n",
    "import matplotlib.pyplot as plt\n",
    "import seaborn as sns\n",
    "%matplotlib inline"
   ]
  },
  {
   "cell_type": "code",
   "execution_count": 2,
   "id": "helpful-cedar",
   "metadata": {},
   "outputs": [],
   "source": [
    "df = pd.read_csv('03_tennisai_data.csv')\n"
   ]
  },
  {
   "cell_type": "markdown",
   "id": "consecutive-orlando",
   "metadata": {},
   "source": [
    "Let's see if there are any obvious misslabeled types in header "
   ]
  },
  {
   "cell_type": "code",
   "execution_count": 3,
   "id": "stainless-couple",
   "metadata": {},
   "outputs": [
    {
     "data": {
      "text/plain": [
       "match_id                   int64\n",
       "frame_pos                  int64\n",
       "p1                        object\n",
       "p1_sets                    int64\n",
       "p1_games                   int64\n",
       "p1_points                  int64\n",
       "p1_set1                    int64\n",
       "p1_set2                    int64\n",
       "p1_set3                    int64\n",
       "p1_set4                    int64\n",
       "p1_set5                    int64\n",
       "p2                        object\n",
       "p2_sets                    int64\n",
       "p2_games                   int64\n",
       "p2_points                  int64\n",
       "p2_set1                    int64\n",
       "p2_set2                    int64\n",
       "p2_set3                    int64\n",
       "p2_set4                    int64\n",
       "p2_set5                    int64\n",
       "server                    object\n",
       "vid_second                 int64\n",
       "point_duration             int64\n",
       "fps                        int64\n",
       "threshold_pt               int64\n",
       "threshold_sets             int64\n",
       "breakpoint                 int64\n",
       "gamepoint                  int64\n",
       "setpoint                   int64\n",
       "matchpoint                 int64\n",
       "pt_won_by                  int64\n",
       "ace                        int64\n",
       "smash                      int64\n",
       "double_fault               int64\n",
       "backhand_winner            int64\n",
       "forehand_winner            int64\n",
       "forehand_error             int64\n",
       "backhand_error             int64\n",
       "2nd_serve                  int64\n",
       "error                      int64\n",
       "drop_shot                  int64\n",
       "winner                     int64\n",
       "lob                        int64\n",
       "rally_length               int64\n",
       "rally_1-4                  int64\n",
       "rally_5-8                  int64\n",
       "rally_9+                   int64\n",
       "expected_ballhit_count     int64\n",
       "detected_ballhit_count     int64\n",
       "game_id                    int64\n",
       "point_description         object\n",
       "strokes_timestamps        object\n",
       "dtype: object"
      ]
     },
     "execution_count": 3,
     "metadata": {},
     "output_type": "execute_result"
    }
   ],
   "source": [
    "df.dtypes"
   ]
  },
  {
   "cell_type": "markdown",
   "id": "adjacent-rainbow",
   "metadata": {},
   "source": [
    "Hm, doesn't seem so\n",
    "\n",
    "Next, of course, we are interested to see if Nole won\n",
    "\n",
    "First, we'll check out the player labels"
   ]
  },
  {
   "cell_type": "code",
   "execution_count": 4,
   "id": "advanced-liberal",
   "metadata": {},
   "outputs": [
    {
     "data": {
      "text/html": [
       "<div>\n",
       "<style scoped>\n",
       "    .dataframe tbody tr th:only-of-type {\n",
       "        vertical-align: middle;\n",
       "    }\n",
       "\n",
       "    .dataframe tbody tr th {\n",
       "        vertical-align: top;\n",
       "    }\n",
       "\n",
       "    .dataframe thead th {\n",
       "        text-align: right;\n",
       "    }\n",
       "</style>\n",
       "<table border=\"1\" class=\"dataframe\">\n",
       "  <thead>\n",
       "    <tr style=\"text-align: right;\">\n",
       "      <th></th>\n",
       "      <th>p1</th>\n",
       "      <th>p2</th>\n",
       "    </tr>\n",
       "  </thead>\n",
       "  <tbody>\n",
       "    <tr>\n",
       "      <th>0</th>\n",
       "      <td>djokovic</td>\n",
       "      <td>federer</td>\n",
       "    </tr>\n",
       "  </tbody>\n",
       "</table>\n",
       "</div>"
      ],
      "text/plain": [
       "         p1       p2\n",
       "0  djokovic  federer"
      ]
     },
     "execution_count": 4,
     "metadata": {},
     "output_type": "execute_result"
    }
   ],
   "source": [
    "df[['p1','p2']].head(1)"
   ]
  },
  {
   "cell_type": "markdown",
   "id": "detected-kingdom",
   "metadata": {},
   "source": [
    "Now, let's see the end of the matchpoint column (remember, Nole == 1, Rafa == 2)"
   ]
  },
  {
   "cell_type": "code",
   "execution_count": 5,
   "id": "constant-married",
   "metadata": {},
   "outputs": [
    {
     "data": {
      "text/plain": [
       "412    0\n",
       "413    0\n",
       "414    0\n",
       "415    0\n",
       "416    0\n",
       "417    0\n",
       "418    0\n",
       "419    0\n",
       "420    0\n",
       "421    1\n",
       "Name: matchpoint, dtype: int64"
      ]
     },
     "execution_count": 5,
     "metadata": {},
     "output_type": "execute_result"
    }
   ],
   "source": [
    "df['matchpoint'].tail(10)"
   ]
  },
  {
   "cell_type": "markdown",
   "id": "gorgeous-spray",
   "metadata": {},
   "source": [
    "Cheers, Nole did win. Now, let's see how much matchpoints did each player have"
   ]
  },
  {
   "cell_type": "code",
   "execution_count": 6,
   "id": "right-audit",
   "metadata": {},
   "outputs": [
    {
     "data": {
      "text/plain": [
       "0    419\n",
       "2      2\n",
       "1      1\n",
       "Name: matchpoint, dtype: int64"
      ]
     },
     "execution_count": 6,
     "metadata": {},
     "output_type": "execute_result"
    }
   ],
   "source": [
    "df['matchpoint'].value_counts()"
   ]
  },
  {
   "cell_type": "markdown",
   "id": "ruled-fifty",
   "metadata": {},
   "source": [
    "Hm, at first, it seems that Rafa had two matchpoints. But, we can't be certain, it could just be the same ongoing point. Let's see the indexes of these matchpoints."
   ]
  },
  {
   "cell_type": "code",
   "execution_count": 7,
   "id": "needed-irrigation",
   "metadata": {},
   "outputs": [
    {
     "data": {
      "text/plain": [
       "(array([358, 359, 421]),)"
      ]
     },
     "execution_count": 7,
     "metadata": {},
     "output_type": "execute_result"
    }
   ],
   "source": [
    "np.nonzero(df['matchpoint'].to_numpy())"
   ]
  },
  {
   "cell_type": "markdown",
   "id": "broadband-profile",
   "metadata": {},
   "source": [
    "As you can see, Rafa's matchpoints were in fact consecutive timeframes. The problem is that we can't know if it is the same point ;( \n",
    "\n",
    "We have to find the way to save the dataframe based on distinct points (not just for matchpoints, there are setpoints and breakpoints too, we can't check them all manually)"
   ]
  },
  {
   "cell_type": "code",
   "execution_count": 8,
   "id": "parliamentary-richmond",
   "metadata": {},
   "outputs": [],
   "source": [
    "dfSub = df[['p1_sets','p1_games','p1_points','p2_sets','p2_games','p2_points','matchpoint']]"
   ]
  },
  {
   "cell_type": "code",
   "execution_count": 9,
   "id": "married-sunset",
   "metadata": {},
   "outputs": [
    {
     "data": {
      "text/plain": [
       "0    406\n",
       "2      2\n",
       "1      1\n",
       "Name: matchpoint, dtype: int64"
      ]
     },
     "execution_count": 9,
     "metadata": {},
     "output_type": "execute_result"
    }
   ],
   "source": [
    "dfgrp = dfSub.groupby(['p1_sets','p1_games','p1_points','p2_sets','p2_games','p2_points']).max()\n",
    "dfgrp['matchpoint'].value_counts()"
   ]
  },
  {
   "cell_type": "markdown",
   "id": "determined-freeware",
   "metadata": {},
   "source": [
    "Now we see that those really are distinct points and that Rafa actually had two matchpoints"
   ]
  },
  {
   "cell_type": "markdown",
   "id": "protective-conservation",
   "metadata": {},
   "source": [
    "Let's do the same for breakpoints and setpoints (we'll actually add the matchpoints too, so that they're all together) and illustrate it"
   ]
  },
  {
   "cell_type": "code",
   "execution_count": 10,
   "id": "minus-label",
   "metadata": {},
   "outputs": [
    {
     "data": {
      "text/plain": [
       "(0    401\n",
       " 2      5\n",
       " 1      3\n",
       " Name: setpoint, dtype: int64,\n",
       " 0    389\n",
       " 2     12\n",
       " 1      8\n",
       " Name: breakpoint, dtype: int64,\n",
       " 0    406\n",
       " 2      2\n",
       " 1      1\n",
       " Name: matchpoint, dtype: int64)"
      ]
     },
     "execution_count": 10,
     "metadata": {},
     "output_type": "execute_result"
    }
   ],
   "source": [
    "dfSub = df[['p1_sets','p1_games','p1_points','p2_sets','p2_games','p2_points','matchpoint','setpoint','breakpoint']]\n",
    "dfgrp = dfSub.groupby(['p1_sets','p1_games','p1_points','p2_sets','p2_games','p2_points']).max()\n",
    "dfgrp['setpoint'].value_counts(),dfgrp['breakpoint'].value_counts(),dfgrp['matchpoint'].value_counts()\n"
   ]
  },
  {
   "cell_type": "markdown",
   "id": "southwest-handy",
   "metadata": {},
   "source": [
    "Plotting..."
   ]
  },
  {
   "cell_type": "code",
   "execution_count": 16,
   "id": "bound-florist",
   "metadata": {},
   "outputs": [
    {
     "data": {
      "image/png": "[encoded data removed]",
      "text/plain": [
       "<Figure size 432x288 with 1 Axes>"
      ]
     },
     "metadata": {
      "needs_background": "light"
     },
     "output_type": "display_data"
    }
   ],
   "source": [
    "labels = ['Breakpoints', 'Setpoints', 'Matchpoints']\n",
    "nole_values = [dfgrp['breakpoint'].value_counts()[1],dfgrp['setpoint'].value_counts()[1],dfgrp['matchpoint'].value_counts()[1]]\n",
    "rafa_values = [dfgrp['breakpoint'].value_counts()[2],dfgrp['setpoint'].value_counts()[2],dfgrp['matchpoint'].value_counts()[2]]\n",
    "\n",
    "x = np.arange(len(labels))\n",
    "width = 0.35\n",
    "\n",
    "fig, ax = plt.subplots()\n",
    "rects1 = ax.bar(x - width/2, nole_values, width, label='Nole')\n",
    "rects2 = ax.bar(x + width/2, rafa_values, width, label='Rafa')\n",
    "\n",
    "\n",
    "ax.set_ylabel('Number of each type of points')\n",
    "ax.set_title('Number of breakpoints, setpoints and matchpoints by each player')\n",
    "ax.set_xticks(x)\n",
    "ax.set_xticklabels(labels)\n",
    "ax.legend()\n",
    "\n",
    "ax.bar_label(rects1, padding=4)\n",
    "ax.bar_label(rects2, padding=4)\n",
    "ax.set_ybound(0,13)\n",
    "fig.tight_layout()\n",
    "\n"
   ]
  },
  {
   "cell_type": "markdown",
   "id": "elder-wellington",
   "metadata": {},
   "source": [
    "As you can see, Rafa has Nole beat in every single category. Seems like statistics is not everything ;)"
   ]
  }
 ],
 "metadata": {
  "kernelspec": {
   "display_name": "Python 3",
   "language": "python",
   "name": "python3"
  },
  "language_info": {
   "codemirror_mode": {
    "name": "ipython",
    "version": 3
   },
   "file_extension": ".py",
   "mimetype": "text/x-python",
   "name": "python",
   "nbconvert_exporter": "python",
   "pygments_lexer": "ipython3",
   "version": "3.9.2"
  }
 },
 "nbformat": 4,
 "nbformat_minor": 5
}

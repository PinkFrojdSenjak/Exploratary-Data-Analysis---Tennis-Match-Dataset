{
 "cells": [
  {
   "cell_type": "markdown",
   "id": "lovely-health",
   "metadata": {},
   "source": [
    "# Exploratary data analysis - Tennis Match between Djokovic and Federer\n",
    "![Title](tennisCourt.jpg)"
   ]
  },
  {
   "cell_type": "markdown",
   "id": "focused-establishment",
   "metadata": {},
   "source": [
    "### Reading csv\n",
    "\n",
    "We'll start off by importing necessary packages and reading the dataset"
   ]
  },
  {
   "cell_type": "code",
   "execution_count": 1,
   "id": "affecting-destruction",
   "metadata": {},
   "outputs": [],
   "source": [
    "import numpy as np\n",
    "import pandas as pd\n",
    "import matplotlib.pyplot as plt\n",
    "import seaborn as sns\n",
    "%matplotlib inline"
   ]
  },
  {
   "cell_type": "code",
   "execution_count": 2,
   "id": "helpful-cedar",
   "metadata": {},
   "outputs": [],
   "source": [
    "df = pd.read_csv('03_tennisai_data.csv')\n"
   ]
  },
  {
   "cell_type": "markdown",
   "id": "adjacent-rainbow",
   "metadata": {},
   "source": [
    "\n",
    "Next, of course, we are interested to see if Nole won\n",
    "\n",
    "First, we'll check out the **player labels**"
   ]
  },
  {
   "cell_type": "code",
   "execution_count": 4,
   "id": "advanced-liberal",
   "metadata": {},
   "outputs": [
    {
     "data": {
      "text/html": [
       "<div>\n",
       "<style scoped>\n",
       "    .dataframe tbody tr th:only-of-type {\n",
       "        vertical-align: middle;\n",
       "    }\n",
       "\n",
       "    .dataframe tbody tr th {\n",
       "        vertical-align: top;\n",
       "    }\n",
       "\n",
       "    .dataframe thead th {\n",
       "        text-align: right;\n",
       "    }\n",
       "</style>\n",
       "<table border=\"1\" class=\"dataframe\">\n",
       "  <thead>\n",
       "    <tr style=\"text-align: right;\">\n",
       "      <th></th>\n",
       "      <th>p1</th>\n",
       "      <th>p2</th>\n",
       "    </tr>\n",
       "  </thead>\n",
       "  <tbody>\n",
       "    <tr>\n",
       "      <th>0</th>\n",
       "      <td>djokovic</td>\n",
       "      <td>federer</td>\n",
       "    </tr>\n",
       "  </tbody>\n",
       "</table>\n",
       "</div>"
      ],
      "text/plain": [
       "         p1       p2\n",
       "0  djokovic  federer"
      ]
     },
     "execution_count": 4,
     "metadata": {},
     "output_type": "execute_result"
    }
   ],
   "source": [
    "df[['p1','p2']].head(1)"
   ]
  },
  {
   "cell_type": "markdown",
   "id": "detected-kingdom",
   "metadata": {},
   "source": [
    "Now, let's see the end of the matchpoint column (remember, Nole == 1, Federer == 2)"
   ]
  },
  {
   "cell_type": "code",
   "execution_count": 7,
   "id": "constant-married",
   "metadata": {},
   "outputs": [
    {
     "data": {
      "text/plain": [
       "421    1\n",
       "Name: matchpoint, dtype: int64"
      ]
     },
     "execution_count": 7,
     "metadata": {},
     "output_type": "execute_result"
    }
   ],
   "source": [
    "df['matchpoint'].tail(1)"
   ]
  },
  {
   "cell_type": "markdown",
   "id": "gorgeous-spray",
   "metadata": {},
   "source": [
    "Cheers, **Nole won**. Now, let's see how much matchpoints did each player have"
   ]
  },
  {
   "cell_type": "code",
   "execution_count": 6,
   "id": "right-audit",
   "metadata": {},
   "outputs": [
    {
     "data": {
      "text/plain": [
       "0    419\n",
       "2      2\n",
       "1      1\n",
       "Name: matchpoint, dtype: int64"
      ]
     },
     "execution_count": 6,
     "metadata": {},
     "output_type": "execute_result"
    }
   ],
   "source": [
    "df['matchpoint'].value_counts()"
   ]
  },
  {
   "cell_type": "markdown",
   "id": "ruled-fifty",
   "metadata": {},
   "source": [
    "Hm, at first, it seems that Federer had two matchpoints. But, we can't be certain, it could just be the same ongoing point. Let's see the indexes of these matchpoints."
   ]
  },
  {
   "cell_type": "code",
   "execution_count": 7,
   "id": "needed-irrigation",
   "metadata": {},
   "outputs": [
    {
     "data": {
      "text/plain": [
       "(array([358, 359, 421]),)"
      ]
     },
     "execution_count": 7,
     "metadata": {},
     "output_type": "execute_result"
    }
   ],
   "source": [
    "np.nonzero(df['matchpoint'].to_numpy())"
   ]
  },
  {
   "cell_type": "markdown",
   "id": "broadband-profile",
   "metadata": {},
   "source": [
    "As you can see, Federer's matchpoints were in fact consecutive timeframes. The problem is that we can't know for certain if it is the same point ;( \n",
    "\n",
    "We have to find the way to save the dataframe based on distinct points (not just for matchpoints, there are setpoints and breakpoints too, we can't check them all manually)"
   ]
  },
  {
   "cell_type": "markdown",
   "id": "arranged-iceland",
   "metadata": {},
   "source": [
    "### Groupby\n",
    "\n",
    "This is very a SQL-like way to do things, but in this case, it saves us a lot of pointless coding"
   ]
  },
  {
   "cell_type": "code",
   "execution_count": 8,
   "id": "parliamentary-richmond",
   "metadata": {},
   "outputs": [],
   "source": [
    "dfSub = df[['p1_sets','p1_games','p1_points','p2_sets','p2_games','p2_points','matchpoint']]"
   ]
  },
  {
   "cell_type": "code",
   "execution_count": 9,
   "id": "married-sunset",
   "metadata": {},
   "outputs": [
    {
     "data": {
      "text/plain": [
       "0    406\n",
       "2      2\n",
       "1      1\n",
       "Name: matchpoint, dtype: int64"
      ]
     },
     "execution_count": 9,
     "metadata": {},
     "output_type": "execute_result"
    }
   ],
   "source": [
    "dfgrp = dfSub.groupby(['p1_sets','p1_games','p1_points','p2_sets','p2_games','p2_points']).max()\n",
    "dfgrp['matchpoint'].value_counts()"
   ]
  },
  {
   "cell_type": "markdown",
   "id": "determined-freeware",
   "metadata": {},
   "source": [
    "Now we see that those really are distinct points and that Federer actually had two matchpoints"
   ]
  },
  {
   "cell_type": "markdown",
   "id": "protective-conservation",
   "metadata": {},
   "source": [
    "Let's do the same for breakpoints and setpoints (we'll actually add the matchpoints too, so that they're all together) and illustrate it"
   ]
  },
  {
   "cell_type": "code",
   "execution_count": 11,
   "id": "minus-label",
   "metadata": {},
   "outputs": [
    {
     "data": {
      "text/plain": [
       "(0    401\n",
       " 2      5\n",
       " 1      3\n",
       " Name: setpoint, dtype: int64,\n",
       " 0    389\n",
       " 2     12\n",
       " 1      8\n",
       " Name: breakpoint, dtype: int64,\n",
       " 0    406\n",
       " 2      2\n",
       " 1      1\n",
       " Name: matchpoint, dtype: int64)"
      ]
     },
     "execution_count": 11,
     "metadata": {},
     "output_type": "execute_result"
    }
   ],
   "source": [
    "dfSub = df[['p1_sets','p1_games','p1_points','p2_sets','p2_games','p2_points','matchpoint','setpoint','breakpoint']]\n",
    "dfgrp = dfSub.groupby(['p1_sets','p1_games','p1_points','p2_sets','p2_games','p2_points']).max()\n",
    "dfgrp['setpoint'].value_counts(),dfgrp['breakpoint'].value_counts(),dfgrp['matchpoint'].value_counts()\n"
   ]
  },
  {
   "cell_type": "markdown",
   "id": "southwest-handy",
   "metadata": {},
   "source": [
    "Plotting..."
   ]
  },
  {
   "cell_type": "code",
   "execution_count": 12,
   "id": "bound-florist",
   "metadata": {},
   "outputs": [
    {
     "data": {
      "image/png": "[encoded data removed]",
      "text/plain": [
       "<Figure size 432x288 with 1 Axes>"
      ]
     },
     "metadata": {
      "needs_background": "light"
     },
     "output_type": "display_data"
    }
   ],
   "source": [
    "labels = ['Breakpoints', 'Setpoints', 'Matchpoints']\n",
    "nole_values = [dfgrp['breakpoint'].value_counts()[1],dfgrp['setpoint'].value_counts()[1],dfgrp['matchpoint'].value_counts()[1]]\n",
    "federer_values = [dfgrp['breakpoint'].value_counts()[2],dfgrp['setpoint'].value_counts()[2],dfgrp['matchpoint'].value_counts()[2]]\n",
    "\n",
    "x = np.arange(len(labels))\n",
    "width = 0.35\n",
    "\n",
    "fig, ax = plt.subplots()\n",
    "rects1 = ax.bar(x - width/2, nole_values, width, label='Nole')\n",
    "rects2 = ax.bar(x + width/2, federer_values, width, label='Federer')\n",
    "\n",
    "\n",
    "ax.set_ylabel('Number of each type of points')\n",
    "ax.set_title('Number of breakpoints, setpoints and matchpoints by each player')\n",
    "ax.set_xticks(x)\n",
    "ax.set_xticklabels(labels)\n",
    "ax.legend()\n",
    "\n",
    "ax.bar_label(rects1, padding=4)\n",
    "ax.bar_label(rects2, padding=4)\n",
    "ax.set_ybound(0,13)\n",
    "fig.tight_layout()\n",
    "\n"
   ]
  },
  {
   "cell_type": "markdown",
   "id": "elder-wellington",
   "metadata": {},
   "source": [
    "As you can see, Federer has Nole beat in every single category. Seems like statistics is not everything ;)"
   ]
  },
  {
   "cell_type": "markdown",
   "id": "contrary-discipline",
   "metadata": {},
   "source": [
    "Next, we'll focus on the point duration (measured in # of ball hits). Let's see who likes the long exchanges."
   ]
  },
  {
   "cell_type": "markdown",
   "id": "conditional-planner",
   "metadata": {},
   "source": [
    "### Binning\n",
    "\n",
    "We will divide point duration in three categories - short, average and long points \n",
    "\n",
    "This way, it's much less complex to look at"
   ]
  },
  {
   "cell_type": "code",
   "execution_count": 22,
   "id": "robust-channel",
   "metadata": {},
   "outputs": [],
   "source": [
    "grpDf = df.groupby(['p1_sets','p1_games','p1_points','p2_sets','p2_games','p2_points']).max()\n",
    "bins = np.linspace(min(grpDf[\"detected_ballhit_count\"]), max(grpDf[\"detected_ballhit_count\"]), 4)\n",
    "binLabels = ['Short point', 'Average point', 'Long point']\n",
    "grpDf['pointDuration-binned'] = pd.cut(grpDf['detected_ballhit_count'], bins, labels=binLabels, include_lowest=True )"
   ]
  },
  {
   "cell_type": "code",
   "execution_count": 25,
   "id": "played-bernard",
   "metadata": {},
   "outputs": [
    {
     "data": {
      "text/plain": [
       "Short point      355\n",
       "Average point     48\n",
       "Long point         6\n",
       "Name: pointDuration-binned, dtype: int64"
      ]
     },
     "execution_count": 25,
     "metadata": {},
     "output_type": "execute_result"
    }
   ],
   "source": [
    "grpDf['pointDuration-binned'].value_counts()"
   ]
  },
  {
   "cell_type": "markdown",
   "id": "suffering-spectacular",
   "metadata": {},
   "source": [
    "As you can see, there aren't that many long points (in fact, short points are dominant, which makes sense)"
   ]
  },
  {
   "cell_type": "markdown",
   "id": "micro-tactics",
   "metadata": {},
   "source": [
    "Let's see who rules over these categories"
   ]
  },
  {
   "cell_type": "code",
   "execution_count": 50,
   "id": "accompanied-depth",
   "metadata": {},
   "outputs": [],
   "source": [
    "temp1 = grpDf['pointDuration-binned'].to_numpy()"
   ]
  },
  {
   "cell_type": "code",
   "execution_count": 63,
   "id": "funny-wellington",
   "metadata": {},
   "outputs": [],
   "source": [
    "longPoint = np.where(temp1 == 'Long point', True, False)\n",
    "shortPoint = np.where(temp1 == 'Short point', True, False)\n",
    "avgPoint = np.where(temp1 == 'Average point', True, False)\n",
    "\n",
    "temp2 = grpDf['pt_won_by'].to_numpy()\n",
    "nolePoint = np.where(temp2 == 1, True, False)\n",
    "fedPoint =  np.where(temp2 == 2, True, False)\n",
    "\n",
    "noleShort = np.logical_and(nolePoint, shortPoint)\n",
    "nslen = len([x for x in noleShort if x == True])\n",
    "\n",
    "fedShort = np.logical_and(fedPoint, shortPoint)\n",
    "fslen = len([x for x in fedShort if x == True])\n",
    "\n",
    "noleAvg = np.logical_and(nolePoint, avgPoint)\n",
    "nalen = len([x for x in noleAvg if x == True])\n",
    "\n",
    "fedAvg = np.logical_and(fedPoint, avgPoint)\n",
    "falen = len([x for x in fedAvg if x == True])\n",
    "\n",
    "noleLong = np.logical_and(nolePoint, longPoint)\n",
    "nllen = len([x for x in noleLong if x == True])\n",
    "\n",
    "fedLong = np.logical_and(fedPoint, longPoint)\n",
    "fllen = len([x for x in fedLong if x == True])\n"
   ]
  },
  {
   "cell_type": "markdown",
   "id": "quick-aquarium",
   "metadata": {},
   "source": [
    "Now, it's the best part - **plotting time!**"
   ]
  },
  {
   "cell_type": "code",
   "execution_count": 83,
   "id": "abandoned-overhead",
   "metadata": {},
   "outputs": [
    {
     "data": {
      "text/plain": [
       "(0.0, 200.0)"
      ]
     },
     "execution_count": 83,
     "metadata": {},
     "output_type": "execute_result"
    },
    {
     "data": {
      "image/png": "[encoded data removed]",
      "text/plain": [
       "<Figure size 432x288 with 1 Axes>"
      ]
     },
     "metadata": {
      "needs_background": "light"
     },
     "output_type": "display_data"
    },
    {
     "data": {
      "image/png": "[encoded data removed]",
      "text/plain": [
       "<Figure size 432x288 with 1 Axes>"
      ]
     },
     "metadata": {
      "needs_background": "light"
     },
     "output_type": "display_data"
    }
   ],
   "source": [
    "plot1 = plt.figure(1)\n",
    "plt.bar(binLabels, [nslen, nalen, nllen])\n",
    "plt.xlabel('Nole stats')\n",
    "plt.ylabel('# of points')\n",
    "plt.ylim([0, 200])\n",
    "plot2 = plt.figure(2)\n",
    "plt.bar(binLabels, [fslen, falen, fllen])\n",
    "plt.xlabel('Federer stats')\n",
    "plt.ylabel('# of points')\n",
    "plt.ylim([0, 200])"
   ]
  },
  {
   "cell_type": "markdown",
   "id": "grand-wallet",
   "metadata": {},
   "source": [
    "#### Result analysis\n",
    "\n",
    "This category is slightly taken by Federer. He has taken arround 20 more short points than Novak. Though, difference isn't that big, considering it's about a 10 percent lead. Interestingly, they have won the same number of average points, while Nole has twice as many long points. "
   ]
  }
 ],
 "metadata": {
  "kernelspec": {
   "display_name": "Python 3",
   "language": "python",
   "name": "python3"
  },
  "language_info": {
   "codemirror_mode": {
    "name": "ipython",
    "version": 3
   },
   "file_extension": ".py",
   "mimetype": "text/x-python",
   "name": "python",
   "nbconvert_exporter": "python",
   "pygments_lexer": "ipython3",
   "version": "3.9.2"
  }
 },
 "nbformat": 4,
 "nbformat_minor": 5
}
